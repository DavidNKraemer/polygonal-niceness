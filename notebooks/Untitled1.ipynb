{
 "cells": [
  {
   "cell_type": "code",
   "execution_count": 1,
   "metadata": {},
   "outputs": [],
   "source": [
    "import numpy as np\n",
    "import matplotlib.pyplot as plt"
   ]
  },
  {
   "cell_type": "code",
   "execution_count": 2,
   "metadata": {},
   "outputs": [],
   "source": [
    "%matplotlib inline"
   ]
  },
  {
   "cell_type": "code",
   "execution_count": 33,
   "metadata": {},
   "outputs": [],
   "source": [
    "def turn_right(direction):\n",
    "    orth_direction = np.array([0,0,-1.])\n",
    "    direction = np.array([*direction,0])\n",
    "    right_direction = np.cross(orth_direction, direction)\n",
    "    return right_direction[:-1]\n",
    "\n",
    "def turn_left(direction):\n",
    "    orth_direction = np.array([0,0,1.])\n",
    "    direction = np.array([*direction,0])\n",
    "    right_direction = np.cross(orth_direction, direction)\n",
    "    return right_direction[:-1]\n",
    "\n",
    "def move_straight(direction, origin, length): \n",
    "    return length * direction + origin"
   ]
  },
  {
   "cell_type": "code",
   "execution_count": 99,
   "metadata": {},
   "outputs": [],
   "source": [
    "def koch_snowflake(depth, length=1.):    \n",
    "    def kernel_forward(depth, length, direction, vertices):\n",
    "        if depth == 0:\n",
    "            vertices.append(move_straight(direction, vertices[-1], length))\n",
    "        else:\n",
    "            for _ in range(4):\n",
    "                kernel_forward(depth-1, length/4, direction, vertices)\n",
    "                direction = turn_right(direction)\n",
    "                kernel_forward(depth-1, length/4, direction, vertices)\n",
    "                direction = turn_left(direction)                \n",
    "                kernel_forward(depth-1, length/4, direction, vertices)\n",
    "                direction = turn_left(direction)                \n",
    "                kernel_forward(depth-1, length/4, direction, vertices)\n",
    "                direction = turn_right(direction)\n",
    "                kernel_forward(depth-1, length/4, direction, vertices)\n",
    "                direction = turn_left(direction)\n",
    "                \n",
    "    origin = np.array([1,0.])\n",
    "    vertices = [origin]\n",
    "    direction = np.array([0., 1.])\n",
    "    kernel_forward(depth, length, direction, vertices);\n",
    "    return np.array(vertices)\n",
    "            \n",
    "            \n",
    "            \n",
    "        "
   ]
  },
  {
   "cell_type": "code",
   "execution_count": 106,
   "metadata": {},
   "outputs": [],
   "source": [
    "s = koch_snowflake(1)"
   ]
  },
  {
   "cell_type": "code",
   "execution_count": 107,
   "metadata": {},
   "outputs": [
    {
     "data": {
      "text/plain": [
       "[<matplotlib.lines.Line2D at 0x7f8cc09c51d0>]"
      ]
     },
     "execution_count": 107,
     "metadata": {},
     "output_type": "execute_result"
    },
    {
     "data": {
      "image/png": "[encoded data removed]",
      "text/plain": [
       "<matplotlib.figure.Figure at 0x7f8cc0a49668>"
      ]
     },
     "metadata": {},
     "output_type": "display_data"
    }
   ],
   "source": [
    "plt.plot(s[:,0], s[:,1])"
   ]
  },
  {
   "cell_type": "code",
   "execution_count": null,
   "metadata": {},
   "outputs": [],
   "source": []
  }
 ],
 "metadata": {
  "kernelspec": {
   "display_name": "Python 3",
   "language": "python",
   "name": "python3"
  },
  "language_info": {
   "codemirror_mode": {
    "name": "ipython",
    "version": 3
   },
   "file_extension": ".py",
   "mimetype": "text/x-python",
   "name": "python",
   "nbconvert_exporter": "python",
   "pygments_lexer": "ipython3",
   "version": "3.6.3"
  }
 },
 "nbformat": 4,
 "nbformat_minor": 2
}
